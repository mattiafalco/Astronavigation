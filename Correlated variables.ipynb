{
 "cells": [
  {
   "cell_type": "code",
   "execution_count": 1,
   "id": "2e8d99b6",
   "metadata": {},
   "outputs": [],
   "source": [
    "import numpy as np"
   ]
  },
  {
   "cell_type": "code",
   "execution_count": 2,
   "id": "9dcd947d",
   "metadata": {},
   "outputs": [],
   "source": [
    "def corr(x,y):\n",
    "    \n",
    "    E_X = np.mean(x)\n",
    "    E_Y = np.mean(y)\n",
    "    sigma_X = np.std(x)\n",
    "    sigma_Y = np.std(y)\n",
    "    cov = np.mean(x*y) - E_X*E_Y\n",
    "    \n",
    "    return cov/(sigma_X*sigma_Y)"
   ]
  },
  {
   "cell_type": "code",
   "execution_count": 17,
   "id": "5970ee8c",
   "metadata": {},
   "outputs": [],
   "source": [
    "sample = 100000\n",
    "\n",
    "rng = np.random.default_rng()\n",
    "\n",
    "X = rng.normal(loc=0, scale=20, size=sample)\n",
    "Y = rng.normal(loc=0, scale=20, size=sample)\n",
    "\n",
    "Z = X + rng.normal(loc=0, scale=20, size=sample)\n",
    "Q = X + rng.normal(loc=0, scale=20, size=sample)"
   ]
  },
  {
   "cell_type": "code",
   "execution_count": 18,
   "id": "7077f62d",
   "metadata": {},
   "outputs": [
    {
     "data": {
      "text/plain": [
       "0.5007922658101708"
      ]
     },
     "execution_count": 18,
     "metadata": {},
     "output_type": "execute_result"
    }
   ],
   "source": [
    "corr(Q,Z)"
   ]
  },
  {
   "cell_type": "code",
   "execution_count": 19,
   "id": "18e034f4",
   "metadata": {},
   "outputs": [
    {
     "data": {
      "text/plain": [
       "0.7090822297622327"
      ]
     },
     "execution_count": 19,
     "metadata": {},
     "output_type": "execute_result"
    }
   ],
   "source": [
    "corr(Z,X)"
   ]
  },
  {
   "cell_type": "code",
   "execution_count": null,
   "id": "912fc310",
   "metadata": {},
   "outputs": [],
   "source": []
  }
 ],
 "metadata": {
  "kernelspec": {
   "display_name": "Python 3 (ipykernel)",
   "language": "python",
   "name": "python3"
  },
  "language_info": {
   "codemirror_mode": {
    "name": "ipython",
    "version": 3
   },
   "file_extension": ".py",
   "mimetype": "text/x-python",
   "name": "python",
   "nbconvert_exporter": "python",
   "pygments_lexer": "ipython3",
   "version": "3.9.12"
  }
 },
 "nbformat": 4,
 "nbformat_minor": 5
}
