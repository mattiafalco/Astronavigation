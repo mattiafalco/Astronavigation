{
 "cells": [
  {
   "cell_type": "markdown",
   "id": "845ba866",
   "metadata": {},
   "source": [
    "# Exosystems"
   ]
  },
  {
   "cell_type": "markdown",
   "id": "852724d0",
   "metadata": {},
   "source": [
    "This program evaluates the deflection of light and the direction error of the Earth from some exosystems."
   ]
  },
  {
   "cell_type": "markdown",
   "id": "ab371238",
   "metadata": {},
   "source": [
    "## Libraries"
   ]
  },
  {
   "cell_type": "code",
   "execution_count": 2,
   "id": "5aa64ab7",
   "metadata": {},
   "outputs": [],
   "source": [
    "import numpy as np\n",
    "import pandas as pd\n",
    "from astronavigation.planets import SolarSystem, Body\n",
    "from astropy import constants\n",
    "from astronavigation.deflection import *\n",
    "from astronavigation.save_df import save_df"
   ]
  },
  {
   "cell_type": "markdown",
   "id": "18ced0d1",
   "metadata": {},
   "source": [
    "## Useful objects"
   ]
  },
  {
   "cell_type": "code",
   "execution_count": 3,
   "id": "8aa03051",
   "metadata": {},
   "outputs": [],
   "source": [
    "# Define constants\n",
    "pc = constants.pc.to('km').value\n",
    "AU = constants.au.to('km').value\n",
    "c = constants.c.to('km/s').value\n",
    "eps = 1/c\n",
    "\n",
    "# create solar system and jupiter\n",
    "ss = SolarSystem()\n",
    "\n",
    "v_null = np.array([0, 0, 0])"
   ]
  },
  {
   "cell_type": "markdown",
   "id": "22e26723",
   "metadata": {},
   "source": [
    "## Catalogue"
   ]
  },
  {
   "cell_type": "code",
   "execution_count": 4,
   "id": "04c98236",
   "metadata": {},
   "outputs": [
    {
     "data": {
      "text/html": [
       "<div>\n",
       "<style scoped>\n",
       "    .dataframe tbody tr th:only-of-type {\n",
       "        vertical-align: middle;\n",
       "    }\n",
       "\n",
       "    .dataframe tbody tr th {\n",
       "        vertical-align: top;\n",
       "    }\n",
       "\n",
       "    .dataframe thead th {\n",
       "        text-align: right;\n",
       "    }\n",
       "</style>\n",
       "<table border=\"1\" class=\"dataframe\">\n",
       "  <thead>\n",
       "    <tr style=\"text-align: right;\">\n",
       "      <th></th>\n",
       "      <th>pl_name</th>\n",
       "      <th>hostname</th>\n",
       "      <th>pl_orbsmax</th>\n",
       "      <th>pl_radj</th>\n",
       "      <th>pl_massj</th>\n",
       "      <th>st_rad</th>\n",
       "      <th>st_mass</th>\n",
       "      <th>ra</th>\n",
       "      <th>dec</th>\n",
       "      <th>sy_dist</th>\n",
       "      <th>sy_gaiamag</th>\n",
       "    </tr>\n",
       "  </thead>\n",
       "  <tbody>\n",
       "    <tr>\n",
       "      <th>0</th>\n",
       "      <td>Proxima Cen b</td>\n",
       "      <td>Proxima Cen</td>\n",
       "      <td>0.0485</td>\n",
       "      <td>NaN</td>\n",
       "      <td>NaN</td>\n",
       "      <td>0.14</td>\n",
       "      <td>0.12</td>\n",
       "      <td>217.393466</td>\n",
       "      <td>-62.676182</td>\n",
       "      <td>1.30119</td>\n",
       "      <td>8.95361</td>\n",
       "    </tr>\n",
       "    <tr>\n",
       "      <th>1</th>\n",
       "      <td>eps Eri b</td>\n",
       "      <td>eps Eri</td>\n",
       "      <td>3.5000</td>\n",
       "      <td>NaN</td>\n",
       "      <td>NaN</td>\n",
       "      <td>0.76</td>\n",
       "      <td>0.81</td>\n",
       "      <td>53.228431</td>\n",
       "      <td>-9.458172</td>\n",
       "      <td>3.20260</td>\n",
       "      <td>3.47719</td>\n",
       "    </tr>\n",
       "    <tr>\n",
       "      <th>2</th>\n",
       "      <td>GJ 887 b</td>\n",
       "      <td>GJ 887</td>\n",
       "      <td>0.0680</td>\n",
       "      <td>NaN</td>\n",
       "      <td>NaN</td>\n",
       "      <td>0.47</td>\n",
       "      <td>0.49</td>\n",
       "      <td>346.466827</td>\n",
       "      <td>-35.853069</td>\n",
       "      <td>3.29000</td>\n",
       "      <td>NaN</td>\n",
       "    </tr>\n",
       "    <tr>\n",
       "      <th>3</th>\n",
       "      <td>GJ 887 c</td>\n",
       "      <td>GJ 887</td>\n",
       "      <td>0.1200</td>\n",
       "      <td>NaN</td>\n",
       "      <td>NaN</td>\n",
       "      <td>0.47</td>\n",
       "      <td>0.49</td>\n",
       "      <td>346.466827</td>\n",
       "      <td>-35.853069</td>\n",
       "      <td>3.29000</td>\n",
       "      <td>NaN</td>\n",
       "    </tr>\n",
       "    <tr>\n",
       "      <th>4</th>\n",
       "      <td>Ross 128 b</td>\n",
       "      <td>Ross 128</td>\n",
       "      <td>0.0496</td>\n",
       "      <td>NaN</td>\n",
       "      <td>NaN</td>\n",
       "      <td>0.20</td>\n",
       "      <td>0.17</td>\n",
       "      <td>176.937604</td>\n",
       "      <td>0.799290</td>\n",
       "      <td>3.37454</td>\n",
       "      <td>9.59067</td>\n",
       "    </tr>\n",
       "  </tbody>\n",
       "</table>\n",
       "</div>"
      ],
      "text/plain": [
       "         pl_name     hostname  pl_orbsmax  pl_radj  pl_massj  st_rad  st_mass  \\\n",
       "0  Proxima Cen b  Proxima Cen      0.0485      NaN       NaN    0.14     0.12   \n",
       "1      eps Eri b      eps Eri      3.5000      NaN       NaN    0.76     0.81   \n",
       "2       GJ 887 b       GJ 887      0.0680      NaN       NaN    0.47     0.49   \n",
       "3       GJ 887 c       GJ 887      0.1200      NaN       NaN    0.47     0.49   \n",
       "4     Ross 128 b     Ross 128      0.0496      NaN       NaN    0.20     0.17   \n",
       "\n",
       "           ra        dec  sy_dist  sy_gaiamag  \n",
       "0  217.393466 -62.676182  1.30119     8.95361  \n",
       "1   53.228431  -9.458172  3.20260     3.47719  \n",
       "2  346.466827 -35.853069  3.29000         NaN  \n",
       "3  346.466827 -35.853069  3.29000         NaN  \n",
       "4  176.937604   0.799290  3.37454     9.59067  "
      ]
     },
     "execution_count": 4,
     "metadata": {},
     "output_type": "execute_result"
    }
   ],
   "source": [
    "path = 'exo_archive.csv'\n",
    "catalogue = pd.read_csv(path)\n",
    "catalogue.head()"
   ]
  },
  {
   "cell_type": "markdown",
   "id": "c15a5a73",
   "metadata": {},
   "source": [
    "## Mean body deflection"
   ]
  },
  {
   "cell_type": "markdown",
   "id": "12cbfb07",
   "metadata": {},
   "source": [
    "## Test different combinations"
   ]
  }
 ],
 "metadata": {
  "kernelspec": {
   "display_name": "Python 3 (ipykernel)",
   "language": "python",
   "name": "python3"
  },
  "language_info": {
   "codemirror_mode": {
    "name": "ipython",
    "version": 3
   },
   "file_extension": ".py",
   "mimetype": "text/x-python",
   "name": "python",
   "nbconvert_exporter": "python",
   "pygments_lexer": "ipython3",
   "version": "3.9.12"
  }
 },
 "nbformat": 4,
 "nbformat_minor": 5
}
