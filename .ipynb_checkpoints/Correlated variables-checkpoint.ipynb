{
 "cells": [
  {
   "cell_type": "code",
   "execution_count": 1,
   "id": "2b10a524",
   "metadata": {},
   "outputs": [],
   "source": [
    "import numpy as np"
   ]
  },
  {
   "cell_type": "code",
   "execution_count": 34,
   "id": "a5e8d314",
   "metadata": {},
   "outputs": [],
   "source": [
    "sample = 10000\n",
    "\n",
    "rng = np.random.default_rng()\n",
    "\n",
    "X = rng.normal(loc=10, scale=3, size=sample)\n",
    "Y = rng.normal(loc=10, scale=3, size=sample)\n",
    "\n",
    "Z = np.sqrt(X**2 + rng.normal(loc=10, scale=3, size=sample)**2)\n",
    "Q = np.sqrt(X**2 + rng.normal(loc=10, scale=3, size=sample)**2)"
   ]
  },
  {
   "cell_type": "code",
   "execution_count": 35,
   "id": "33b30844",
   "metadata": {},
   "outputs": [],
   "source": [
    "def corr(x,y):\n",
    "    \n",
    "    E_X = np.mean(x)\n",
    "    E_Y = np.mean(y)\n",
    "    sigma_X = np.std(x)\n",
    "    sigma_Y = np.std(y)\n",
    "    cov = np.mean(x*y) - E_X*E_Y\n",
    "    \n",
    "    return cov/(sigma_X*sigma_Y)"
   ]
  },
  {
   "cell_type": "code",
   "execution_count": 39,
   "id": "c3c1b7a2",
   "metadata": {},
   "outputs": [
    {
     "data": {
      "text/plain": [
       "0.48778424343487287"
      ]
     },
     "execution_count": 39,
     "metadata": {},
     "output_type": "execute_result"
    }
   ],
   "source": [
    "corr(Q,Z)"
   ]
  },
  {
   "cell_type": "code",
   "execution_count": null,
   "id": "763d75f9",
   "metadata": {},
   "outputs": [],
   "source": []
  }
 ],
 "metadata": {
  "kernelspec": {
   "display_name": "Python 3 (ipykernel)",
   "language": "python",
   "name": "python3"
  },
  "language_info": {
   "codemirror_mode": {
    "name": "ipython",
    "version": 3
   },
   "file_extension": ".py",
   "mimetype": "text/x-python",
   "name": "python",
   "nbconvert_exporter": "python",
   "pygments_lexer": "ipython3",
   "version": "3.9.12"
  }
 },
 "nbformat": 4,
 "nbformat_minor": 5
}
