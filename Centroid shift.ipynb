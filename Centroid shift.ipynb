{
 "cells": [
  {
   "cell_type": "markdown",
   "id": "36f23b52",
   "metadata": {},
   "source": [
    "# Centroid Shift"
   ]
  },
  {
   "cell_type": "markdown",
   "id": "d21410b5",
   "metadata": {},
   "source": [
    "## Import packages"
   ]
  },
  {
   "cell_type": "code",
   "execution_count": 1,
   "id": "605de567",
   "metadata": {},
   "outputs": [],
   "source": [
    "import pandas as pd\n",
    "import numpy as np\n",
    "from astropy import constants\n",
    "from astronavigation.deflection import *\n",
    "from astronavigation.planets import Body, SolarSystem\n",
    "from astronavigation.read_exo import *\n",
    "import numpy.linalg as LA\n",
    "\n",
    "np.set_printoptions(precision=54)"
   ]
  },
  {
   "cell_type": "markdown",
   "id": "44fa5a33",
   "metadata": {},
   "source": [
    "## Useful constants"
   ]
  },
  {
   "cell_type": "code",
   "execution_count": 2,
   "id": "09d76988",
   "metadata": {},
   "outputs": [],
   "source": [
    "# constants\n",
    "pc = constants.pc.to('km').value\n",
    "AU = constants.au.to('km').value\n",
    "c = constants.c.to('km/s').value\n",
    "eps = 1/c\n",
    "\n",
    "# Create Solar System\n",
    "ss = SolarSystem()\n",
    "\n",
    "jupiter = ss.getPlanet('jupiter')"
   ]
  },
  {
   "cell_type": "markdown",
   "id": "12cb051f",
   "metadata": {},
   "source": [
    "## Define problem"
   ]
  },
  {
   "cell_type": "code",
   "execution_count": 3,
   "id": "d8e462b2",
   "metadata": {},
   "outputs": [],
   "source": [
    "# observer\n",
    "obs = 'earth'\n",
    "\n",
    "# target exoplanets\n",
    "targets_p = ['GU Psc b', 'HATS-43 b', 'CoRoT-10 b', 'TOI-132 b', 'HATS-52 b']\n",
    "\n",
    "# target stars\n",
    "targets_s = ['GU Psc', 'HATS-43', 'CoRoT-10', 'TOI-132', 'HATS-52']\n",
    "\n",
    "# read exo catalogue\n",
    "path = 'exo_archive.csv'\n",
    "catalogue = pd.read_csv(path)"
   ]
  },
  {
   "cell_type": "markdown",
   "id": "c9b96351",
   "metadata": {},
   "source": [
    "## Evaluate deflection and shift"
   ]
  },
  {
   "cell_type": "code",
   "execution_count": 7,
   "id": "56b7d6e1",
   "metadata": {},
   "outputs": [
    {
     "name": "stdout",
     "output_type": "stream",
     "text": [
      "1822054.8222799432\n",
      "GU Psc b\n",
      "defl: 0.0310650581517928 muas\n",
      "cs_shift: 1.2669388094792312e-05\n",
      "mass: 11.3 mJ\n",
      "orb_rad: 2000.0000000000002 AU\n",
      "dist: 47.5501 pc\n",
      "\n",
      "\n",
      "nan\n",
      "HATS-43 b\n",
      "defl: 0.0 muas\n",
      "cs_shift: nan\n",
      "mass: 0.0 mJ\n",
      "orb_rad: 0.0 AU\n",
      "dist: 362.273 pc\n",
      "\n",
      "\n",
      "26923.44457332029\n",
      "CoRoT-10 b\n",
      "defl: 142.2767316058531 muas\n",
      "cs_shift: 4.301092867470476e-07\n",
      "mass: 2.73 mJ\n",
      "orb_rad: 0.1055 AU\n",
      "dist: 338.3860000000001 pc\n",
      "\n",
      "\n",
      "83183.92960614394\n",
      "TOI-132 b\n",
      "defl: 14.90446002784191 muas\n",
      "cs_shift: 2.2956419908536498e-08\n",
      "mass: 0.07048 mJ\n",
      "orb_rad: 0.026 AU\n",
      "dist: 163.67800000000003 pc\n",
      "\n",
      "\n",
      "14462.984732346451\n",
      "HATS-52 b\n",
      "defl: 493.0367301168415 muas\n",
      "cs_shift: 2.1511898559789796e-07\n",
      "mass: 2.24 mJ\n",
      "orb_rad: 0.02498 AU\n",
      "dist: 555.134 pc\n",
      "\n",
      "\n"
     ]
    },
    {
     "name": "stderr",
     "output_type": "stream",
     "text": [
      "/var/folders/7k/393v523d5fx6hq7ntyqg05x00000gn/T/ipykernel_18770/1545454328.py:30: RuntimeWarning: invalid value encountered in double_scalars\n",
      "  beta = chi / theta_E\n",
      "/var/folders/7k/393v523d5fx6hq7ntyqg05x00000gn/T/ipykernel_18770/1545454328.py:33: RuntimeWarning: invalid value encountered in double_scalars\n",
      "  print(chi/theta_E)\n"
     ]
    }
   ],
   "source": [
    "# loop over targets\n",
    "for i in range(len(targets_p)):\n",
    "    \n",
    "    # planet\n",
    "    exo_p = getExo(targets_p[i], catalogue)\n",
    "    a_p = getExoOrbRad(targets_p[i], catalogue)\n",
    "    \n",
    "    x_p = np.array([0, exo_p.dist, a_p])\n",
    "       \n",
    "    # star\n",
    "    exo_s = getExoStar(targets_s[i], catalogue)\n",
    "    \n",
    "    x_s = np.array([0, 1, 0]) * (exo_s.dist)\n",
    "    \n",
    "    # obs\n",
    "    x_obs = ss.getPlanet(obs).pos\n",
    "    \n",
    "    # impact angle grazing\n",
    "    chi = a_p/(exo_p.dist + LA.norm(x_obs))\n",
    "    #print(rad2muas(chi))\n",
    "    \n",
    "    # direction\n",
    "    l0 = -np.array([np.sin(chi), np.cos(chi), 0])\n",
    "    x_s = -LA.norm(x_s - x_obs) * l0 + x_obs\n",
    "    \n",
    "    dl = light_defl(l0, x_s, x_p, x_obs, eps, exo_p.mass)\n",
    "    \n",
    "    # centroid shift\n",
    "    theta_E = einstein_ring(exo_p.mass, eps, x_p, x_s, x_obs)\n",
    "    beta = chi / theta_E\n",
    "    shift = cs_beta(beta, LA.norm(x_s - x_obs), LA.norm(x_s - x_p), theta_E)\n",
    "    \n",
    "    print(chi/theta_E)\n",
    "    \n",
    "    print(targets_p[i])\n",
    "    print(f'defl: {rad2muas(LA.norm(dl))} muas')\n",
    "    print(f'cs_shift: {rad2muas(shift)}')\n",
    "    print(f'mass: {exo_p.mass/jupiter.mass} mJ')\n",
    "    print(f'orb_rad: {a_p/AU} AU')\n",
    "    print(f'dist: {exo_p.dist/pc} pc')\n",
    "    print('\\n')"
   ]
  },
  {
   "cell_type": "code",
   "execution_count": 5,
   "id": "2b28fe15",
   "metadata": {},
   "outputs": [
    {
     "data": {
      "text/plain": [
       "980.9326269721291"
      ]
     },
     "execution_count": 5,
     "metadata": {},
     "output_type": "execute_result"
    }
   ],
   "source": [
    "rad2muas(4*3.280*jupiter.mass*eps**2/(0.026*AU))"
   ]
  },
  {
   "cell_type": "code",
   "execution_count": null,
   "id": "640a4370",
   "metadata": {},
   "outputs": [],
   "source": []
  }
 ],
 "metadata": {
  "kernelspec": {
   "display_name": "Python 3 (ipykernel)",
   "language": "python",
   "name": "python3"
  },
  "language_info": {
   "codemirror_mode": {
    "name": "ipython",
    "version": 3
   },
   "file_extension": ".py",
   "mimetype": "text/x-python",
   "name": "python",
   "nbconvert_exporter": "python",
   "pygments_lexer": "ipython3",
   "version": "3.9.12"
  }
 },
 "nbformat": 4,
 "nbformat_minor": 5
}
